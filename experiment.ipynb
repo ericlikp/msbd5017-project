{
 "cells": [
  {
   "cell_type": "code",
   "execution_count": 2,
   "id": "35303c73-cac7-40f2-9d4d-048fc45efd4f",
   "metadata": {},
   "outputs": [
    {
     "ename": "ModuleNotFoundError",
     "evalue": "No module named 'etherdata_sdk'",
     "output_type": "error",
     "traceback": [
      "\u001b[1;31m---------------------------------------------------------------------------\u001b[0m",
      "\u001b[1;31mModuleNotFoundError\u001b[0m                       Traceback (most recent call last)",
      "Input \u001b[1;32mIn [2]\u001b[0m, in \u001b[0;36m<cell line: 1>\u001b[1;34m()\u001b[0m\n\u001b[1;32m----> 1\u001b[0m \u001b[38;5;28;01mfrom\u001b[39;00m \u001b[38;5;21;01metherdata_sdk\u001b[39;00m\u001b[38;5;21;01m.\u001b[39;00m\u001b[38;5;21;01mjson_rpc\u001b[39;00m \u001b[38;5;28;01mimport\u001b[39;00m JsonRpcMethods\n\u001b[0;32m      2\u001b[0m \u001b[38;5;28;01mfrom\u001b[39;00m \u001b[38;5;21;01metherdata_sdk\u001b[39;00m\u001b[38;5;21;01m.\u001b[39;00m\u001b[38;5;21;01maccount\u001b[39;00m \u001b[38;5;28;01mimport\u001b[39;00m Account\n\u001b[0;32m      3\u001b[0m \u001b[38;5;28;01mfrom\u001b[39;00m \u001b[38;5;21;01metherdata_sdk\u001b[39;00m \u001b[38;5;28;01mimport\u001b[39;00m Transaction\n",
      "\u001b[1;31mModuleNotFoundError\u001b[0m: No module named 'etherdata_sdk'"
     ]
    }
   ],
   "source": [
    "from etherdata_sdk.json_rpc import JsonRpcMethods\n",
    "from etherdata_sdk.account import Account\n",
    "from etherdata_sdk import Transaction"
   ]
  },
  {
   "cell_type": "code",
   "execution_count": 2,
   "id": "16eb1492-3e71-470a-b9a6-3deb20c83f83",
   "metadata": {},
   "outputs": [
    {
     "name": "stdout",
     "output_type": "stream",
     "text": [
      "0x200cb5\n"
     ]
    },
    {
     "name": "stderr",
     "output_type": "stream",
     "text": [
      "F:\\Anaconda\\envs\\5017\\lib\\site-packages\\urllib3\\connectionpool.py:1043: InsecureRequestWarning: Unverified HTTPS request is being made to host 'rpc.etdchain.net'. Adding certificate verification is strongly advised. See: https://urllib3.readthedocs.io/en/1.26.x/advanced-usage.html#ssl-warnings\n",
      "  warnings.warn(\n"
     ]
    }
   ],
   "source": [
    "client = JsonRpcMethods(\"https://rpc.etdchain.net\")\n",
    "print(client.block_number())"
   ]
  },
  {
   "cell_type": "code",
   "execution_count": 3,
   "id": "5d19279b-cc46-4683-bd50-f56b042dcc4a",
   "metadata": {},
   "outputs": [
    {
     "name": "stderr",
     "output_type": "stream",
     "text": [
      "F:\\Anaconda\\envs\\5017\\lib\\site-packages\\urllib3\\connectionpool.py:1043: InsecureRequestWarning: Unverified HTTPS request is being made to host 'rpc.debugchain.net'. Adding certificate verification is strongly advised. See: https://urllib3.readthedocs.io/en/1.26.x/advanced-usage.html#ssl-warnings\n",
      "  warnings.warn(\n"
     ]
    },
    {
     "name": "stdout",
     "output_type": "stream",
     "text": [
      "0x27d1d\n"
     ]
    }
   ],
   "source": [
    "from etherdata_sdk.json_rpc import JsonRpcMethods\n",
    "client = JsonRpcMethods(\"https://rpc.debugchain.net\")\n",
    "print(client.block_number())"
   ]
  },
  {
   "cell_type": "markdown",
   "id": "cd443008-256b-4223-83d5-6f242acd62fc",
   "metadata": {},
   "source": [
    "# Create an account"
   ]
  },
  {
   "cell_type": "code",
   "execution_count": 15,
   "id": "c9e5d71c-7b8f-4388-8c74-fee39ef108d2",
   "metadata": {},
   "outputs": [],
   "source": [
    "account_1 = Account()"
   ]
  },
  {
   "cell_type": "code",
   "execution_count": 16,
   "id": "16328724-7407-44ac-a3a9-37cb3077d25d",
   "metadata": {},
   "outputs": [
    {
     "data": {
      "text/plain": [
       "<etherdata_sdk.account.account.Account at 0x1de0e7a5d90>"
      ]
     },
     "execution_count": 16,
     "metadata": {},
     "output_type": "execute_result"
    }
   ],
   "source": [
    "mnemonic = 'doraemon'\n",
    "account_1.create_private_key_from_mnemonic(mnemonic)"
   ]
  },
  {
   "cell_type": "code",
   "execution_count": 17,
   "id": "63f8ff0a-2ee1-411b-896d-98e7d8ea6a71",
   "metadata": {},
   "outputs": [
    {
     "data": {
      "text/plain": [
       "HexBytes('0x0f370c377a0c2603fc5f19c44f96c8738d869c428a5566e047fa43fda3501e4c')"
      ]
     },
     "execution_count": 17,
     "metadata": {},
     "output_type": "execute_result"
    }
   ],
   "source": [
    "account_1.private_key"
   ]
  },
  {
   "cell_type": "code",
   "execution_count": 18,
   "id": "eff32397-e2f1-40ff-85a9-46447321e987",
   "metadata": {},
   "outputs": [
    {
     "data": {
      "text/plain": [
       "'0x2BD0c795B6FA6BC4C212De71AEE893B0a3604230'"
      ]
     },
     "execution_count": 18,
     "metadata": {},
     "output_type": "execute_result"
    }
   ],
   "source": [
    "account_1.address"
   ]
  },
  {
   "cell_type": "code",
   "execution_count": 19,
   "id": "cf3c92a9-bdba-400a-9f35-3b58a5948f82",
   "metadata": {},
   "outputs": [],
   "source": [
    "account_1.save('private_1.key')"
   ]
  },
  {
   "cell_type": "code",
   "execution_count": 19,
   "id": "efbfc2f1-a292-4404-a94f-a792001547e7",
   "metadata": {},
   "outputs": [],
   "source": [
    "account_2 = Account()\n",
    "mnemonic = 'Doraemon and Nobita'\n",
    "account_2.create_private_key_from_mnemonic(mnemonic)\n",
    "account_2.save('private_2.key')"
   ]
  },
  {
   "cell_type": "markdown",
   "id": "df435a09-7920-4382-a4d8-20ef648ea076",
   "metadata": {},
   "source": [
    "# Read account from private key"
   ]
  },
  {
   "cell_type": "code",
   "execution_count": 20,
   "id": "f9d14082-92e9-47cd-9834-0bc2203a72b3",
   "metadata": {},
   "outputs": [
    {
     "data": {
      "text/plain": [
       "<etherdata_sdk.account.account.Account at 0x1de11423c10>"
      ]
     },
     "execution_count": 20,
     "metadata": {},
     "output_type": "execute_result"
    }
   ],
   "source": [
    "account_from = Account()\n",
    "account_from.read_private_key_from_file('private_1.key')"
   ]
  },
  {
   "cell_type": "code",
   "execution_count": 21,
   "id": "9a1a3d1e-b58c-49ed-a05e-5770bec7cedb",
   "metadata": {},
   "outputs": [
    {
     "name": "stdout",
     "output_type": "stream",
     "text": [
      "b'\\x0f7\\x0c7z\\x0c&\\x03\\xfc_\\x19\\xc4O\\x96\\xc8s\\x8d\\x86\\x9cB\\x8aUf\\xe0G\\xfaC\\xfd\\xa3P\\x1eL'\n",
      "0x2BD0c795B6FA6BC4C212De71AEE893B0a3604230\n"
     ]
    }
   ],
   "source": [
    "print(account_from.private_key)\n",
    "print(account_from.address)"
   ]
  },
  {
   "cell_type": "markdown",
   "id": "bfe42a72-8bc1-41b2-99ea-6da350ff2d55",
   "metadata": {},
   "source": [
    "# Send transaction"
   ]
  },
  {
   "cell_type": "code",
   "execution_count": 28,
   "id": "ac1685d9-9025-407e-a219-7f520143e556",
   "metadata": {},
   "outputs": [],
   "source": [
    "transaction = Transaction(to=None, \n",
    "                          value=0, \n",
    "                          data='9f86d081884c7d659a2feaa0c55ad015a3bf4f1b2b0b822cd15d6c15b0f00a08', \n",
    "                          gas=0x200b20, \n",
    "                          gas_price=0x3b9aca00, \n",
    "                          nonce=1,\n",
    "                          chain_id=8348)"
   ]
  },
  {
   "cell_type": "code",
   "execution_count": 29,
   "id": "2a85df00-656f-445a-9032-419fec566669",
   "metadata": {},
   "outputs": [],
   "source": [
    "signed = account_from.sign_transaction(transaction)"
   ]
  },
  {
   "cell_type": "code",
   "execution_count": 30,
   "id": "9db25052-fbd9-44e5-babf-21593cd36f8b",
   "metadata": {},
   "outputs": [
    {
     "data": {
      "text/plain": [
       "'0xbfb6f8dd2da6d48939be10a0355cc4d87f8fd7dd13e519fa91d6a1edc3c1939f'"
      ]
     },
     "execution_count": 30,
     "metadata": {},
     "output_type": "execute_result"
    }
   ],
   "source": [
    "client = JsonRpcMethods(\"https://rpc.debugchain.net/\")\n",
    "client.send_raw_transaction(signed.raw_transaction)"
   ]
  },
  {
   "cell_type": "markdown",
   "id": "4e162080-f022-4980-af18-36bf845119d5",
   "metadata": {},
   "source": [
    "# Send file"
   ]
  },
  {
   "cell_type": "code",
   "execution_count": 1,
   "id": "07c26b5a-afc4-4c31-a1a2-4037c1d4ec29",
   "metadata": {},
   "outputs": [
    {
     "ename": "ModuleNotFoundError",
     "evalue": "No module named 'etherdata_sdk'",
     "output_type": "error",
     "traceback": [
      "\u001b[1;31m---------------------------------------------------------------------------\u001b[0m",
      "\u001b[1;31mModuleNotFoundError\u001b[0m                       Traceback (most recent call last)",
      "Input \u001b[1;32mIn [1]\u001b[0m, in \u001b[0;36m<cell line: 1>\u001b[1;34m()\u001b[0m\n\u001b[1;32m----> 1\u001b[0m \u001b[38;5;28;01mfrom\u001b[39;00m \u001b[38;5;21;01metherdata_sdk\u001b[39;00m\u001b[38;5;21;01m.\u001b[39;00m\u001b[38;5;21;01mfile\u001b[39;00m \u001b[38;5;28;01mimport\u001b[39;00m File, FileObject\n",
      "\u001b[1;31mModuleNotFoundError\u001b[0m: No module named 'etherdata_sdk'"
     ]
    }
   ],
   "source": [
    "from etherdata_sdk.file import File, FileObject"
   ]
  },
  {
   "cell_type": "code",
   "execution_count": 43,
   "id": "78edc707-2010-4ddc-88a2-41a6027c504b",
   "metadata": {},
   "outputs": [],
   "source": [
    "file = File(url=\"http://39.98.50.209:5145/\")"
   ]
  },
  {
   "cell_type": "code",
   "execution_count": 54,
   "id": "b7b431d4-d8ce-40c3-a1b4-4905c65644a3",
   "metadata": {},
   "outputs": [],
   "source": [
    "file_object = FileObject(file_path=\"./test_1101.txt\", days=2)"
   ]
  },
  {
   "cell_type": "code",
   "execution_count": 55,
   "id": "4b7e3cbf-4013-4b89-973f-534bfda1654a",
   "metadata": {},
   "outputs": [],
   "source": [
    "file_id = file.upload_file(file_object, error_on_exists=False)"
   ]
  },
  {
   "cell_type": "code",
   "execution_count": 58,
   "id": "0af3d7fb-fafb-4a64-907d-c0fc51f412a4",
   "metadata": {},
   "outputs": [],
   "source": [
    "file.download_file(file_id=file_id, download_path=\"./test_1101_rec.txt\")"
   ]
  },
  {
   "cell_type": "code",
   "execution_count": 56,
   "id": "51599afe-d15e-42b9-9ad4-53f56141a82d",
   "metadata": {},
   "outputs": [
    {
     "data": {
      "text/plain": [
       "'1e0000000000000b2aae6c35c94fcfb415dbe95f408b9ce91ee846ed5eb63bbbe01eeed093cb22bb8f5acdc3c8fe83d5788cadafe0e55419af35daeabfa1e33b'"
      ]
     },
     "execution_count": 56,
     "metadata": {},
     "output_type": "execute_result"
    }
   ],
   "source": [
    "file_id"
   ]
  },
  {
   "cell_type": "code",
   "execution_count": null,
   "id": "40147722-cd0e-4d00-849d-29bc82f4db79",
   "metadata": {},
   "outputs": [],
   "source": []
  }
 ],
 "metadata": {
  "kernelspec": {
   "display_name": "Python 3 (ipykernel)",
   "language": "python",
   "name": "python3"
  },
  "language_info": {
   "codemirror_mode": {
    "name": "ipython",
    "version": 3
   },
   "file_extension": ".py",
   "mimetype": "text/x-python",
   "name": "python",
   "nbconvert_exporter": "python",
   "pygments_lexer": "ipython3",
   "version": "3.8.13"
  }
 },
 "nbformat": 4,
 "nbformat_minor": 5
}
