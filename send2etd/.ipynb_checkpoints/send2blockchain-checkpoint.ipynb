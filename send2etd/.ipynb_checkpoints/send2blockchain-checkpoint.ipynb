{
 "cells": [
  {
   "cell_type": "code",
   "execution_count": 22,
   "id": "4f62fb4e-6484-495f-b822-7c15515afec2",
   "metadata": {},
   "outputs": [],
   "source": [
    "from etherdata_sdk.json_rpc import JsonRpcMethods\n",
    "from etherdata_sdk.account import Account\n",
    "from etherdata_sdk import Transaction\n",
    "import os, re\n",
    "import glob\n",
    "import json\n",
    "import hashlib\n",
    "from Crypto.Cipher import DES\n",
    "from datetime import datetime\n",
    "import random"
   ]
  },
  {
   "cell_type": "markdown",
   "id": "21367953-c9d3-4a38-8bbd-85b867a2e385",
   "metadata": {},
   "source": [
    "# Load Account"
   ]
  },
  {
   "cell_type": "code",
   "execution_count": 23,
   "id": "9b26f69e-de0f-4315-ac43-6e3e57fd4fa8",
   "metadata": {},
   "outputs": [
    {
     "name": "stdout",
     "output_type": "stream",
     "text": [
      "Loading ETD account ...\n",
      "Account loaded\n"
     ]
    }
   ],
   "source": [
    "account = Account()\n",
    "print('Loading ETD account ...')\n",
    "if os.path.isfile('keys/account_private.key') is True:\n",
    "    print('Account loaded')\n",
    "    account.read_private_key_from_file('keys/account_private.key')\n",
    "else:\n",
    "    print('Account not found, creating an account ...')\n",
    "    mnemonic = input('Please input a mnemonic: ')\n",
    "    account.create_private_key_from_mnemonic(mnemonic)\n",
    "    account.save('keys/account_private.key')"
   ]
  },
  {
   "cell_type": "code",
   "execution_count": 24,
   "id": "d8aa1654-496c-46d6-8472-a1e915f78fa0",
   "metadata": {},
   "outputs": [
    {
     "name": "stdout",
     "output_type": "stream",
     "text": [
      "Account address: 0xf1F46fb27Dd8CDcB6D19A0C340867924A0d41cB4\n"
     ]
    }
   ],
   "source": [
    "print('Account address:', account.address)"
   ]
  },
  {
   "cell_type": "markdown",
   "id": "b3e79a8e-47ee-4b24-9359-9d56d7a02f6d",
   "metadata": {},
   "source": [
    "# Prepare Document\n",
    "* Occupation\n",
    "* Gender\n",
    "* Birth\n",
    "* History"
   ]
  },
  {
   "cell_type": "code",
   "execution_count": 25,
   "id": "a738b063-d133-499d-8edf-6a81e6b7f13d",
   "metadata": {},
   "outputs": [],
   "source": [
    "history_files = [file for file in glob.glob('history*.txt') if re.search(r'history(\\s\\([0-9]\\))?.txt', file)]\n",
    "history = []\n",
    "finisn_files = []"
   ]
  },
  {
   "cell_type": "code",
   "execution_count": 26,
   "id": "3b22dd59-d901-44dc-bc9a-10060368c48b",
   "metadata": {},
   "outputs": [
    {
     "name": "stdout",
     "output_type": "stream",
     "text": [
      "Aggregating all the history.txt files ...\n"
     ]
    }
   ],
   "source": [
    "print('Aggregating all the history.txt files ...')\n",
    "occupation = None\n",
    "gender = None\n",
    "birth = None\n",
    "for file in history_files:\n",
    "    with open(file, 'r') as f:\n",
    "        temp_occupation = f.readline().rstrip('\\n\\r')\n",
    "        temp_gender = f.readline().rstrip('\\n\\r')\n",
    "        temp_birth = f.readline().rstrip('\\n\\r')\n",
    "        if occupation is None or gender is None or birth is None:\n",
    "            occupation = temp_occupation\n",
    "            gender = temp_gender\n",
    "            birth = temp_birth\n",
    "        elif temp_occupation != occupation or temp_gender != gender or temp_birth != birth:\n",
    "            break\n",
    "        hist_string = f.readline().rstrip('\\n\\r')\n",
    "        hist_list = json.loads(hist_string)\n",
    "        history += hist_list\n",
    "    finisn_files.append(file)\n",
    "        \n",
    "history.sort(key=lambda x: x['timestamp'])"
   ]
  },
  {
   "cell_type": "code",
   "execution_count": 27,
   "id": "d426f3b8-c9ed-4b3b-9db9-4c3606d065e1",
   "metadata": {},
   "outputs": [
    {
     "name": "stdout",
     "output_type": "stream",
     "text": [
      "Aggregated into a document.\n",
      "Hashed the document.\n"
     ]
    }
   ],
   "source": [
    "print('Aggregated into a document.')\n",
    "document = [occupation, gender, birth, json.dumps(history)]\n",
    "document = '\\n'.join(document)\n",
    "doc_hash = hashlib.sha256(document.encode(\"utf-8\")).hexdigest()\n",
    "\n",
    "print('Hashed the document.')"
   ]
  },
  {
   "cell_type": "code",
   "execution_count": 28,
   "id": "e7d35dde-5686-40c2-9717-ad73c4a438d1",
   "metadata": {},
   "outputs": [
    {
     "name": "stdout",
     "output_type": "stream",
     "text": [
      "Document Hash: 5917875a262d50c68fb11b7950b6aca1baca97c910dfd3832c8d98e3729630d0\n"
     ]
    }
   ],
   "source": [
    "print('Document Hash:', doc_hash)"
   ]
  },
  {
   "cell_type": "markdown",
   "id": "fd997b89-7c08-4eb9-9e2b-795ee596ac14",
   "metadata": {},
   "source": [
    "# Send Transaction"
   ]
  },
  {
   "cell_type": "code",
   "execution_count": 29,
   "id": "ae528a93-fa94-4918-9341-4749c11f0545",
   "metadata": {},
   "outputs": [],
   "source": [
    "transaction = Transaction(to=None, \n",
    "                          value=0, \n",
    "                          data=doc_hash, \n",
    "                          gas=0x200b20, \n",
    "                          gas_price=0x3b9aca00, \n",
    "                          nonce=random.randint(0, 1000),\n",
    "                          chain_id=8348)"
   ]
  },
  {
   "cell_type": "code",
   "execution_count": 30,
   "id": "9852a256-ba73-4a4e-82c3-8112db5fb787",
   "metadata": {},
   "outputs": [
    {
     "name": "stdout",
     "output_type": "stream",
     "text": [
      "Sending a ETD transaction ...\n"
     ]
    }
   ],
   "source": [
    "print('Sending a ETD transaction ...')\n",
    "signed_transaction = account.sign_transaction(transaction)"
   ]
  },
  {
   "cell_type": "code",
   "execution_count": 31,
   "id": "84c04ff8-518a-4ef6-a2a6-425439df9eb3",
   "metadata": {},
   "outputs": [
    {
     "name": "stdout",
     "output_type": "stream",
     "text": [
      "Transaction sent, id: 0xffc06075a66682004d8cfedb8aefa80bc825dc2ddf644f8955c9e112897eb206\n"
     ]
    }
   ],
   "source": [
    "client = JsonRpcMethods(\"https://rpc.debugchain.net/\")\n",
    "return_message = client.send_raw_transaction(signed_transaction.raw_transaction)\n",
    "print('Transaction sent, id:', return_message)"
   ]
  },
  {
   "cell_type": "markdown",
   "id": "95a08651-c4dc-4517-8e48-b9e8d4e2ef26",
   "metadata": {},
   "source": [
    "# Upload Document\n",
    "* Occupation\n",
    "* Gender\n",
    "* Birth\n",
    "* Address\n",
    "* Encrypted document"
   ]
  },
  {
   "cell_type": "code",
   "execution_count": 32,
   "id": "5605ea00-bbd1-4226-ab05-28c5cbf8486e",
   "metadata": {},
   "outputs": [
    {
     "name": "stdout",
     "output_type": "stream",
     "text": [
      "Loading document password ...\n",
      "Password loaded\n"
     ]
    }
   ],
   "source": [
    "user_input = True\n",
    "# Get document keys\n",
    "print('Loading document password ...')\n",
    "if os.path.isfile('keys/document_password') is True:\n",
    "    print('Password loaded')\n",
    "    with open('keys/document_password', 'r') as pw_file:\n",
    "        document_password = pw_file.read()\n",
    "else:\n",
    "    print('Password not found, creating new document password ...')\n",
    "    if user_input:\n",
    "        document_password = input('Document Password (exactly 8 characters): ')\n",
    "        while len(document_password) != 8:\n",
    "            document_password = input('Document Password must be 8 characters, input again: ')\n",
    "    else:\n",
    "        document_password = 'password'\n",
    "    with open('keys/document_password', 'w') as pw_file:\n",
    "        pw_file.write(document_password)\n",
    "    print('Password saved.')"
   ]
  },
  {
   "cell_type": "code",
   "execution_count": 33,
   "id": "ba35fec8-c08a-4270-ac30-469b4eb123bc",
   "metadata": {},
   "outputs": [],
   "source": [
    "def pad(text):\n",
    "    n = len(text) % 8\n",
    "    return text + (b'\\n' * n)"
   ]
  },
  {
   "cell_type": "code",
   "execution_count": 34,
   "id": "3d7ccacc-6eea-4201-8773-bf4da9852e4c",
   "metadata": {},
   "outputs": [
    {
     "name": "stdout",
     "output_type": "stream",
     "text": [
      "Encryting the document ...\n"
     ]
    }
   ],
   "source": [
    "print('Encryting the document ...')\n",
    "document_password = str.encode(document_password)\n",
    "document_bytes = str.encode(document)\n",
    "document_padded = pad(document_bytes)"
   ]
  },
  {
   "cell_type": "code",
   "execution_count": 35,
   "id": "8fec4c38-8cc3-4d32-badd-d3561bbb3072",
   "metadata": {},
   "outputs": [],
   "source": [
    "des = DES.new(document_password, DES.MODE_ECB)\n",
    "encrypted_text = des.encrypt(document_padded)"
   ]
  },
  {
   "cell_type": "code",
   "execution_count": 36,
   "id": "d2356ac0-e5d4-4d55-a3e0-aac506ccbd5d",
   "metadata": {},
   "outputs": [
    {
     "name": "stdout",
     "output_type": "stream",
     "text": [
      "Document encrypted\n"
     ]
    }
   ],
   "source": [
    "encrypted_document = str.encode(occupation+'\\n') + str.encode(gender+'\\n') + str.encode(birth+'\\n') + str.encode(account.address+'\\n') + encrypted_text\n",
    "print('Document encrypted')"
   ]
  },
  {
   "cell_type": "code",
   "execution_count": 37,
   "id": "2bad3fbe-4fa6-42a8-99d8-63e538aa0a77",
   "metadata": {},
   "outputs": [],
   "source": [
    "filename = 'documents/historty_{}.bin'.format(str(datetime.date(datetime.now())))\n",
    "with open(filename, 'wb') as f:\n",
    "    f.write(encrypted_document)"
   ]
  },
  {
   "cell_type": "code",
   "execution_count": 38,
   "id": "ee4e32e5-3a52-465a-b66e-40ed388d3a57",
   "metadata": {},
   "outputs": [
    {
     "name": "stdout",
     "output_type": "stream",
     "text": [
      "Uploading the encrypted document to ETD file storage ...\n",
      "Uploaded, File id: 1e000000000001fd297e3d13c86c16606bf4ed30f3792fa6cf635f10229d71421b922baa855fa93c4d811a15c3dc9da222874c243be3d4c28adb36308c3fc513\n"
     ]
    }
   ],
   "source": [
    "from etherdata_sdk.file import File, FileObject\n",
    "file = File(url=\"http://39.98.50.209:5145/\")\n",
    "file_object = FileObject(file_path=filename, days=2)\n",
    "print('Uploading the encrypted document to ETD file storage ...')\n",
    "try:\n",
    "    file_id = file.upload_file(file_object, error_on_exists=False)\n",
    "    print('Uploaded, File id:', file_id)\n",
    "except:\n",
    "    file_id = file.upload_file(file_object, error_on_exists=False)\n",
    "    print('Uploaded, File id:', file_id)\n",
    "    pass"
   ]
  },
  {
   "cell_type": "code",
   "execution_count": null,
   "id": "1c0883c6-11dd-43c9-9425-8f55841b7af6",
   "metadata": {},
   "outputs": [],
   "source": []
  }
 ],
 "metadata": {
  "kernelspec": {
   "display_name": "Python 3 (ipykernel)",
   "language": "python",
   "name": "python3"
  },
  "language_info": {
   "codemirror_mode": {
    "name": "ipython",
    "version": 3
   },
   "file_extension": ".py",
   "mimetype": "text/x-python",
   "name": "python",
   "nbconvert_exporter": "python",
   "pygments_lexer": "ipython3",
   "version": "3.8.13"
  }
 },
 "nbformat": 4,
 "nbformat_minor": 5
}
